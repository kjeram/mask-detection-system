{
 "cells": [
  {
   "cell_type": "markdown",
   "metadata": {},
   "source": [
    "# Imports"
   ]
  },
  {
   "cell_type": "code",
   "execution_count": null,
   "metadata": {},
   "outputs": [],
   "source": [
    "import os\n",
    "import numpy as np\n",
    "import cv2\n",
    "import random"
   ]
  },
  {
   "cell_type": "markdown",
   "metadata": {},
   "source": [
    "# Methods"
   ]
  },
  {
   "cell_type": "code",
   "execution_count": null,
   "metadata": {},
   "outputs": [],
   "source": [
    "def fetch_files(dir:str, filetype:list, arr:list = []):\n",
    "    with os.scandir(dir) as content:\n",
    "        for item in content:\n",
    "            if os.path.isdir(dir + '/' + item.name):\n",
    "                arr = fetch_files(dir + '/' + item.name, filetype, arr)\n",
    "            elif item.name.split('.')[-1] in filetype:\n",
    "                arr.append(item)\n",
    "    return arr\n",
    "\n",
    "def square_bounding_box(startX:int, startY:int, endX:int, endY:int):\n",
    "    box_h, box_w = endY - startY, endX - startX\n",
    "    aspect = box_h / box_w\n",
    "    if aspect > 1:\n",
    "        offset = round((box_h / 2) - (box_w / 2))\n",
    "        startX, endX = startX - offset, endX + offset\n",
    "    else:\n",
    "        offset = round((box_w / 2) - (box_h / 2))\n",
    "        startY, endY = startY - offset, endY + offset\n",
    "    return startX, startY, endX, endY"
   ]
  },
  {
   "cell_type": "markdown",
   "metadata": {},
   "source": [
    "# Config"
   ]
  },
  {
   "cell_type": "code",
   "execution_count": null,
   "metadata": {},
   "outputs": [],
   "source": [
    "# Directory\n",
    "dataset_dir = './dataset/org'\n",
    "save_dir = './dataset/new'\n",
    "\n",
    "# Face detect model\n",
    "conf_threshold = 0.7\n",
    "prototxt_path = 'deploy.prototxt'\n",
    "weights_path = 'res10_300x300_ssd_iter_140000_fp16.caffemodel'\n",
    "face_detect = cv2.dnn.readNet(prototxt_path, weights_path)\n",
    "\n",
    "# Image properties\n",
    "image_size = 96\n",
    "images = fetch_files(dataset_dir, ['jpg', 'png'])"
   ]
  },
  {
   "cell_type": "markdown",
   "metadata": {},
   "source": [
    "# Dataset creator"
   ]
  },
  {
   "cell_type": "code",
   "execution_count": null,
   "metadata": {},
   "outputs": [],
   "source": [
    "for image in images:\n",
    "    # Read image\n",
    "    frame = cv2.imread(image.path)\n",
    "    h, w = frame.shape[:2]\n",
    "\n",
    "    # Check that image is valid\n",
    "    if type(frame) == type(None):\n",
    "        continue\n",
    "\n",
    "    # OpenCV DNN pre-processing\n",
    "    blob = cv2.dnn.blobFromImage(frame, 1.0, (image_size * 2, image_size * 2))\n",
    "    face_detect.setInput(blob)\n",
    "    faces = face_detect.forward()\n",
    "\n",
    "    # For all faces detected in frame\n",
    "    for c, i in enumerate(range(0, faces.shape[2]), start=0):\n",
    "\n",
    "        # Get the confidence that it is a face \n",
    "        confidence = faces[0, 0, i, 2]\n",
    "\n",
    "        if confidence > conf_threshold:\n",
    "            # Get coordinates for face\n",
    "            box = faces[0, 0, i, 3:7] * np.array([w, h, w, h])\n",
    "            startX, startY, endX, endY = box.astype(\"int\")\n",
    "            startX_bak, startY_bak, endX_bak, endY_bak = box.astype(\"int\")\n",
    "\n",
    "            # Make the bounding boxs square\n",
    "            startX, startY, endX, endY = square_bounding_box(startX, startY, endX, endY)\n",
    "\n",
    "            # Make sure the box is within the dimensions of the frame\n",
    "            startX, startY = max(0, startX), max(0, startY)\n",
    "            endX, endY = min(w, endX), min(h, endY)\n",
    "\n",
    "            # Pre-process frame\n",
    "            frame_crop = frame[startY:endY, startX:endX]\n",
    "\n",
    "            # Resize bounding box\n",
    "            try:\n",
    "                frame_crop_resize = cv2.resize(frame_crop, (image_size, image_size), cv2.INTER_AREA)\n",
    "            except cv2.error:\n",
    "                break\n",
    "\n",
    "            # Filename & path formatting\n",
    "            # NOTE: might not work on non NT systems due to different path structure\n",
    "            img_ext = image.name.split('.')\n",
    "            img_path = save_dir + '/' + image.path.replace(image.name, '')[:-1].split('/')[-1]\n",
    "            img_name = '/' + img_ext[0] + '{0}.'.format('' if c == 0 else '_duplicate_' + str(c)) + img_ext[1] \n",
    "            img_str = img_path + img_name\n",
    "\n",
    "            # Check that filepath exists\n",
    "            if not os.path.exists(img_path):\n",
    "                os.makedirs(img_path)\n",
    "\n",
    "            # Save image to disk\n",
    "            cv2.imwrite(img_str, frame_crop_resize)\n",
    "        \n",
    "        # Only save the first found face for every image\n",
    "        # NOTE: Uncomment this to include all detected faces    \n",
    "        break"
   ]
  },
  {
   "cell_type": "code",
   "execution_count": null,
   "metadata": {},
   "outputs": [],
   "source": [
    "# Delete excess files to make dataset uniform\n",
    "folder_name = []\n",
    "folder_size = []\n",
    "for folder in os.listdir(save_dir):\n",
    "    folder_name.append(folder)\n",
    "    folder_size.append(len([name for name in os.listdir(save_dir + '/' + folder)]))\n",
    "to_delete = [folder_size[folder_name.index(x)] for x in folder_name if x != folder_name[folder_size.index(min(folder_size))]]\n",
    "for num in to_delete:\n",
    "    folder = folder_name[folder_size.index(num)]\n",
    "    num -= folder_size[folder_size.index(min(folder_size))]\n",
    "    for n in range(num):\n",
    "        content = os.listdir(save_dir + '/' + folder)\n",
    "        os.remove(save_dir + '/' + folder + '/' + content[random.randint(0, num - n)])"
   ]
  }
 ],
 "metadata": {
  "interpreter": {
   "hash": "bc8db8338442da81e46c52f4a512a049d88bdbadd496774bc741b7bd95e52413"
  },
  "kernelspec": {
   "display_name": "Python 3.9.7 ('tf-gpu')",
   "language": "python",
   "name": "python3"
  },
  "language_info": {
   "codemirror_mode": {
    "name": "ipython",
    "version": 3
   },
   "file_extension": ".py",
   "mimetype": "text/x-python",
   "name": "python",
   "nbconvert_exporter": "python",
   "pygments_lexer": "ipython3",
   "version": "3.9.7"
  },
  "orig_nbformat": 4
 },
 "nbformat": 4,
 "nbformat_minor": 2
}
