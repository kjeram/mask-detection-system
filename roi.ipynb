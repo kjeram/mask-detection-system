{
 "cells": [
  {
   "cell_type": "markdown",
   "metadata": {},
   "source": [
    "# Import Packages"
   ]
  },
  {
   "cell_type": "code",
   "execution_count": 1,
   "metadata": {},
   "outputs": [],
   "source": [
    "import cv2\n",
    "import os\n",
    "import numpy as np\n",
    "import matplotlib.pyplot as plt\n",
    "from pylab import rcParams"
   ]
  },
  {
   "cell_type": "code",
   "execution_count": 2,
   "metadata": {},
   "outputs": [],
   "source": [
    "#-- Dataset loader --#\n",
    "\n",
    "def fetch_images(path, label=None, image_ext='jpg'):\n",
    "    image_names = [x for x in os.listdir(path) if x.split('.')[-1] in image_ext]\n",
    "    if len(image_names) == 0: raise Exception('No files found')\n",
    "    bga_images = [cv2.imread(path + '/' + img) for img in  image_names]\n",
    "    images = [cv2.cvtColor(img, cv2.COLOR_BGR2RGB) for img in bga_images]\n",
    "    return images, [[label, image_names[i]] for i in range(len(images))]\n",
    "\n",
    "def fetch_dataset(path, image_ext=['jpg','png']):\n",
    "    # Get all folders in the path var\n",
    "    all_folders = [fol for fol in os.listdir(path)]\n",
    "    # Get only subfolders that contains files with image_ext\n",
    "    folders = [fol for fol in all_folders if len([x for x in os.listdir(path + '/' + fol) if x.split('.')[-1] in image_ext]) > 0]\n",
    "    # Throw error if no files are found\n",
    "    if len(folders) == 0: raise Exception('No files found')\n",
    "    print(f'Found the following folders: {folders}')\n",
    "    data_list, label_list = [], []\n",
    "    for folder in folders:\n",
    "        data, label = fetch_images(path + '/' + folder, folder, image_ext)\n",
    "        data_list = data_list + data\n",
    "        label_list = label_list + label\n",
    "    return data_list, label_list\n",
    "\n",
    "\n",
    "#-- Data visualizer --#\n",
    "\n",
    "def visualizer(x, y=None, grid=None, font=None):\n",
    "    if not font:\n",
    "        font = {'font.family': 'Arial', 'font.size' : 12}\n",
    "    rcParams.update(font)\n",
    "    if not grid or 1 in grid:\n",
    "        fig = plt.figure(figsize=(6,6))\n",
    "        plt.tick_params(axis='both', bottom=False, left=False, labelbottom=False, labelleft=False)\n",
    "        plt.imshow(x, cmap=\"Greys\")\n",
    "        if y: plt.title(y)\n",
    "    else:\n",
    "        fig, axes = plt.subplots(grid[0], grid[1],figsize=(10,10))\n",
    "        for row in axes:\n",
    "            for axe in row:\n",
    "                axe.tick_params(axis='both', bottom=False, left=False, labelbottom=False, labelleft=False)\n",
    "                r = np.random.randint(len(x))\n",
    "                axe.imshow(x[r], cmap=\"Greys\")\n",
    "                if y: axe.set_title(y[r])\n",
    "                #plt.tight_layout()\n",
    "    plt.show()"
   ]
  },
  {
   "cell_type": "code",
   "execution_count": 3,
   "metadata": {},
   "outputs": [],
   "source": [
    "#-- Image processing methods --#\n",
    "\n",
    "def convertToRGB(img):\n",
    "    return cv2.cvtColor(img, cv2.COLOR_BGR2RGB)\n",
    "\n",
    "def detect_faces(f_cascade, colored_img, scaleFactor = 1.1):\n",
    "    #just making a copy of image passed, so that passed image is not changed\n",
    "    img_copy = colored_img.copy()\n",
    "    \n",
    "    #convert the test image to gray image as opencv face detector expects gray images\n",
    "    gray = cv2.cvtColor(img_copy, cv2.COLOR_RGB2GRAY)\n",
    "    \n",
    "    #let's detect multiscale (some images may be closer to camera than others) images\n",
    "    faces = f_cascade.detectMultiScale(gray, scaleFactor=scaleFactor, minNeighbors=5)\n",
    "    \n",
    "    #go over list of faces and draw them as rectangles on original colored img\n",
    "    for (x, y, w, h) in faces:\n",
    "        cv2.rectangle(img_copy, (x, y), (x+w, y+h), (0, 255, 0), 1)\n",
    "        \n",
    "    return img_copy\n",
    "\n",
    "def crop_face(f_cascade, img, scaleFactor = 1.1):\n",
    "    # convert the image to gray image as opencv face detector expects gray images\n",
    "    gray = cv2.cvtColor(img, cv2.COLOR_RGB2GRAY)\n",
    "    # let's detect multiscale (some images may be closer to camera than others) images\n",
    "    faces = f_cascade.detectMultiScale(gray, scaleFactor=scaleFactor, minNeighbors=5)\n",
    "    try:\n",
    "        x, y, w, h = faces[0]\n",
    "    except IndexError:\n",
    "        return None\n",
    "    return img[y:y+h, x:x+w]"
   ]
  },
  {
   "cell_type": "code",
   "execution_count": 4,
   "metadata": {},
   "outputs": [],
   "source": [
    "def forge_dataset_pipeline(dataset_path,\n",
    "                            new_path,\n",
    "                            haar_face_cascade,\n",
    "                            drop=100,\n",
    "                            image_type=['jpg','png']):\n",
    "\n",
    "    # Validate input\n",
    "    assert os.path.exists(dataset_path)\n",
    "    assert type(new_path) == str\n",
    "    assert len(new_path) in range(1,20)\n",
    "    assert type(drop) == int\n",
    "    assert 0 < drop\n",
    "    assert type(haar_face_cascade) == cv2.CascadeClassifier\n",
    "    assert type(image_type) == list\n",
    "\n",
    "    print('Loading dataset')\n",
    "    data, label = fetch_dataset(dataset_path, image_type)\n",
    "\n",
    "    print('Cropping dataset')\n",
    "    data_crop, label_crop = [], []\n",
    "    for i, j in zip(data, label):\n",
    "        crop = crop_face(haar_face_cascade, i)\n",
    "        if type(crop) != type(None):\n",
    "            if len(crop) > drop:\n",
    "                data_crop.append(crop)\n",
    "                label_crop.append(j)\n",
    "\n",
    "    print('Saving dataset')\n",
    "    for image, label in zip(data_crop, label_crop):\n",
    "        if not os.path.exists('dataset/' + new_path + '/' + label[0]):\n",
    "            os.makedirs('dataset/' + new_path + '/' + label[0])\n",
    "            print(f'Creating folder: {new_path}/{label[0]}')\n",
    "        cv2.imwrite('dataset/' + new_path + '/' + label[0] + '/' + label[1], convertToRGB(image))\n",
    "\n",
    "    #return data_crop, label_crop"
   ]
  },
  {
   "cell_type": "markdown",
   "metadata": {},
   "source": [
    "# Image Processing"
   ]
  },
  {
   "cell_type": "code",
   "execution_count": 5,
   "metadata": {},
   "outputs": [
    {
     "name": "stdout",
     "output_type": "stream",
     "text": [
      " Volume in drive E is Homura\n",
      " Volume Serial Number is 9A5F-4CD0\n",
      "\n",
      " Directory of e:\\Users\\Anti\\Documents\\Noroff\\3rd Year\\Bachelor Project (UC3BPR201)\\project\\mask-detection-system\\data\\haarcascades\n",
      "\n",
      "08/11/2021  12:53    <DIR>          .\n",
      "08/11/2021  12:53    <DIR>          ..\n",
      "08/11/2021  09:49           341.406 haarcascade_eye.xml\n",
      "08/11/2021  09:49           601.661 haarcascade_eye_tree_eyeglasses.xml\n",
      "08/11/2021  09:49           411.388 haarcascade_frontalcatface.xml\n",
      "08/11/2021  09:49           382.918 haarcascade_frontalcatface_extended.xml\n",
      "08/11/2021  09:49           676.709 haarcascade_frontalface_alt.xml\n",
      "08/11/2021  09:49           540.616 haarcascade_frontalface_alt2.xml\n",
      "08/11/2021  09:49         2.689.040 haarcascade_frontalface_alt_tree.xml\n",
      "08/11/2021  09:49           930.127 haarcascade_frontalface_default.xml\n",
      "08/11/2021  09:49           476.827 haarcascade_fullbody.xml\n",
      "08/11/2021  09:49           195.369 haarcascade_lefteye_2splits.xml\n",
      "08/11/2021  09:49            47.775 haarcascade_licence_plate_rus_16stages.xml\n",
      "08/11/2021  09:49           395.322 haarcascade_lowerbody.xml\n",
      "08/11/2021  09:49           828.514 haarcascade_profileface.xml\n",
      "08/11/2021  09:49           196.170 haarcascade_righteye_2splits.xml\n",
      "08/11/2021  09:49            75.482 haarcascade_russian_plate_number.xml\n",
      "08/11/2021  09:49           188.506 haarcascade_smile.xml\n",
      "08/11/2021  09:49           785.819 haarcascade_upperbody.xml\n",
      "              17 File(s)      9.763.649 bytes\n",
      "               2 Dir(s)  325.235.212.288 bytes free\n"
     ]
    }
   ],
   "source": [
    "!dir data\\haarcascades"
   ]
  },
  {
   "cell_type": "code",
   "execution_count": 6,
   "metadata": {},
   "outputs": [],
   "source": [
    "# Set face detection classifier\n",
    "haar_face_cascade = cv2.CascadeClassifier('data\\haarcascades\\haarcascade_frontalface_alt2.xml')"
   ]
  },
  {
   "cell_type": "markdown",
   "metadata": {},
   "source": [
    "# Dataset"
   ]
  },
  {
   "cell_type": "code",
   "execution_count": 7,
   "metadata": {},
   "outputs": [
    {
     "name": "stdout",
     "output_type": "stream",
     "text": [
      "Loading dataset\n",
      "Found the following folders: ['Mask', 'No Mask']\n",
      "Cropping dataset\n",
      "Saving dataset\n",
      "Creating folder: FMD_filter/Mask\n",
      "Creating folder: FMD_filter/No Mask\n"
     ]
    }
   ],
   "source": [
    "forge_dataset_pipeline('dataset/FaceMask Dataset', 'FMD_filter', haar_face_cascade)"
   ]
  },
  {
   "cell_type": "code",
   "execution_count": 8,
   "metadata": {},
   "outputs": [
    {
     "name": "stdout",
     "output_type": "stream",
     "text": [
      "Loading dataset\n",
      "Found the following folders: ['without_mask', 'with_mask']\n",
      "Cropping dataset\n",
      "Saving dataset\n",
      "Creating folder: FMDD_filter/without_mask\n",
      "Creating folder: FMDD_filter/with_mask\n"
     ]
    }
   ],
   "source": [
    "forge_dataset_pipeline('dataset/Face Mask Detection Dataset', 'FMDD_filter', haar_face_cascade)"
   ]
  },
  {
   "cell_type": "code",
   "execution_count": 15,
   "metadata": {},
   "outputs": [],
   "source": [
    "from random import randrange\n",
    "images = os.listdir('dataset/Combined/No Mask')\n",
    "im_keep = []\n",
    "\n",
    "l = 605 - 61\n",
    "\n",
    "for i in range(l):\n",
    "    r = randrange(0, len(images))\n",
    "    im_keep.append(images.pop(r))\n",
    "\n",
    "for i in os.listdir('dataset/Combined/No Mask'):\n",
    "    if i not in im_keep:\n",
    "        os.remove('dataset/Combined/No Mask/' + i)\n"
   ]
  }
 ],
 "metadata": {
  "interpreter": {
   "hash": "bc8db8338442da81e46c52f4a512a049d88bdbadd496774bc741b7bd95e52413"
  },
  "kernelspec": {
   "display_name": "Python 3.9.7 64-bit ('tf-gpu': conda)",
   "name": "python3"
  },
  "language_info": {
   "codemirror_mode": {
    "name": "ipython",
    "version": 3
   },
   "file_extension": ".py",
   "mimetype": "text/x-python",
   "name": "python",
   "nbconvert_exporter": "python",
   "pygments_lexer": "ipython3",
   "version": "3.9.7"
  },
  "orig_nbformat": 4
 },
 "nbformat": 4,
 "nbformat_minor": 2
}
